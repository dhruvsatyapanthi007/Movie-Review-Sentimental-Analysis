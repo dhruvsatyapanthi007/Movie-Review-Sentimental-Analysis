{
 "cells": [
  {
   "cell_type": "code",
   "execution_count": 1,
   "metadata": {},
   "outputs": [],
   "source": [
    "import numpy as np\n",
    "import pandas as pd\n",
    "from sklearn.feature_extraction.text import CountVectorizer\n",
    "import os\n",
    "from sklearn.ensemble import RandomForestClassifier\n",
    "import re\n",
    "from sklearn.linear_model import LogisticRegression\n",
    "from sklearn.svm import LinearSVC"
   ]
  },
  {
   "cell_type": "code",
   "execution_count": 2,
   "metadata": {},
   "outputs": [],
   "source": [
    "X_train=[]\n",
    "y_train=[]\n",
    "X_test=[]\n",
    "y_test=[]\n",
    "files=os.listdir('./aclImdb/train/pos')\n",
    "for file in files:\n",
    "    textfile=open('./aclImdb/train/pos/'+file,'r',encoding='utf-8')\n",
    "    t=textfile.read().replace('\\n','')\n",
    "    textfile.close()\n",
    "    X_train.append(t)\n",
    "    y_train.append(1)\n",
    "files=os.listdir('./aclImdb/train/neg')\n",
    "for file in files:\n",
    "    textfile=open('./aclImdb/train/neg/'+file,'r',encoding='utf-8')\n",
    "    t=textfile.read().replace('\\n','')\n",
    "    textfile.close()\n",
    "    X_train.append(t)\n",
    "    y_train.append(0)\n",
    "files=os.listdir('./aclImdb/test/pos')\n",
    "for file in files:\n",
    "    textfile=open('./aclImdb/test/pos/'+file,'r',encoding='utf-8')\n",
    "    t=textfile.read().replace('\\n','')\n",
    "    textfile.close()\n",
    "    X_test.append(t)\n",
    "    y_test.append(1)\n",
    "files=os.listdir('./aclImdb/test/neg')\n",
    "for file in files:\n",
    "    textfile=open('./aclImdb/test/neg/'+file,'r',encoding='utf-8')\n",
    "    t=textfile.read().replace('\\n','')\n",
    "    textfile.close()\n",
    "    X_test.append(t)\n",
    "    y_test.append(0)"
   ]
  },
  {
   "cell_type": "code",
   "execution_count": 3,
   "metadata": {},
   "outputs": [],
   "source": [
    "wosp=re.compile(\"(\\.)|(\\;)|(\\:)|(\\!)|(\\')|(\\?)|(\\,)|(\\\")|(\\()|(\\))|(\\[)|(\\])\")\n",
    "whsp=re.compile(\"(<br\\s*/><br\\s*/>)|(\\-)|(\\/)\")\n",
    "X_train_re=[wosp.sub(\"\",review.lower()) for review in X_train]\n",
    "X_train_re=[whsp.sub(\" \",review) for review in X_train_re]\n",
    "X_test_re=[wosp.sub(\"\",review.lower()) for review in X_test]\n",
    "X_test_re=[whsp.sub(\" \",review) for review in X_test_re]\n",
    "cv=CountVectorizer(binary=True)\n",
    "cv.fit(X_train_re)\n",
    "X_train_V=cv.transform(X_train_re)\n",
    "X_test_V=cv.transform(X_test_re)"
   ]
  },
  {
   "cell_type": "code",
   "execution_count": 4,
   "metadata": {},
   "outputs": [
    {
     "name": "stderr",
     "output_type": "stream",
     "text": [
      "C:\\Users\\Dhruv\\Anaconda3\\lib\\site-packages\\sklearn\\ensemble\\forest.py:248: FutureWarning: The default value of n_estimators will change from 10 in version 0.20 to 100 in 0.22.\n",
      "  \"10 in version 0.20 to 100 in 0.22.\", FutureWarning)\n"
     ]
    },
    {
     "name": "stdout",
     "output_type": "stream",
     "text": [
      "0.74116\n"
     ]
    }
   ],
   "source": [
    "rfc=RandomForestClassifier()\n",
    "rfc.fit(X_train_V,y_train)\n",
    "y_pred=rfc.predict(X_test_V)\n",
    "print(rfc.score(X_test_V,y_test))"
   ]
  },
  {
   "cell_type": "code",
   "execution_count": 5,
   "metadata": {},
   "outputs": [
    {
     "name": "stderr",
     "output_type": "stream",
     "text": [
      "C:\\Users\\Dhruv\\Anaconda3\\lib\\site-packages\\sklearn\\linear_model\\logistic.py:432: FutureWarning: Default solver will be changed to 'lbfgs' in 0.22. Specify a solver to silence this warning.\n",
      "  FutureWarning)\n"
     ]
    },
    {
     "name": "stdout",
     "output_type": "stream",
     "text": [
      "0.88152\n"
     ]
    }
   ],
   "source": [
    "logr=LogisticRegression(C=0.05)\n",
    "logr.fit(X_train_V,y_train)\n",
    "print(logr.score(X_test_V,y_test))"
   ]
  },
  {
   "cell_type": "code",
   "execution_count": 6,
   "metadata": {},
   "outputs": [
    {
     "name": "stdout",
     "output_type": "stream",
     "text": [
      "0.88336\n"
     ]
    }
   ],
   "source": [
    "supp=LinearSVC(C=0.0033)\n",
    "supp.fit(X_train_V,y_train)\n",
    "print(supp.score(X_test_V,y_test))"
   ]
  },
  {
   "cell_type": "code",
   "execution_count": 8,
   "metadata": {},
   "outputs": [
    {
     "name": "stdout",
     "output_type": "stream",
     "text": [
      "[1]\n"
     ]
    }
   ],
   "source": [
    "print(supp.predict(cv.transform([\"No doubt about him a star born with a love and super acting Amitabh bachhan sahab\"])))"
   ]
  },
  {
   "cell_type": "code",
   "execution_count": null,
   "metadata": {},
   "outputs": [],
   "source": []
  }
 ],
 "metadata": {
  "kernelspec": {
   "display_name": "Python 3",
   "language": "python",
   "name": "python3"
  },
  "language_info": {
   "codemirror_mode": {
    "name": "ipython",
    "version": 3
   },
   "file_extension": ".py",
   "mimetype": "text/x-python",
   "name": "python",
   "nbconvert_exporter": "python",
   "pygments_lexer": "ipython3",
   "version": "3.6.5"
  }
 },
 "nbformat": 4,
 "nbformat_minor": 2
}
